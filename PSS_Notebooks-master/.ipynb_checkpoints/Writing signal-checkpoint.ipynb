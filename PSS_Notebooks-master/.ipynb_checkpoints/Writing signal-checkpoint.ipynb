{
 "cells": [
  {
   "cell_type": "code",
   "execution_count": 1,
   "metadata": {
    "collapsed": true
   },
   "outputs": [],
   "source": [
    "import numpy as np\n",
    "import matplotlib.pyplot as plt\n",
    "%matplotlib inline\n",
    "%load_ext autoreload\n",
    "%autoreload 2\n",
    "import sys\n",
    "sys.path.append('/Users/suggsa/Documents/SPIT/PulsarSimulator/')\n",
    "import VersionZeroPointZero as PSS\n",
    "import math\n",
    "import scipy as sp\n",
    "from scipy import signal\n",
    "import pdat"
   ]
  },
  {
   "cell_type": "code",
   "execution_count": 2,
   "metadata": {},
   "outputs": [
    {
     "name": "stdout",
     "output_type": "stream",
     "text": [
      "Removing older PSRFITS file from path '../PulsarSimulator/psrfits_output/my_psrfits.fits'.\n",
      "Making new SEARCH mode PSRFITS file using template from path:\n",
      "'../PulsarSimulator/psrfits_templates/search_template.fits'. \n",
      "Writing to path '../PulsarSimulator/psrfits_output/my_psrfits.fits'.\n",
      "The Binary Table HDU headers will be written as they are added\n",
      "\t to the PSRFITS file.\n"
     ]
    }
   ],
   "source": [
    "template = '../PulsarSimulator/psrfits_templates/search_template.fits'\n",
    "path = '../PulsarSimulator/psrfits_output/my_psrfits.fits'\n",
    "psrfits1 = pdat.psrfits(psrfits_path = path, from_template = template)"
   ]
  },
  {
   "cell_type": "code",
   "execution_count": 3,
   "metadata": {
    "collapsed": true
   },
   "outputs": [],
   "source": [
    "def set_primary_header(psrfits_object,prim_dict):\n",
    "    \"\"\"\n",
    "    prim_dict = dictionary of primary header changes\n",
    "    \"\"\"\n",
    "    PF_obj = psrfits_object\n",
    "    for key in prim_dict.keys():\n",
    "        PF_obj.replace_FITS_Record('PRIMARY',key,prim_dict[key])\n",
    "\n",
    "def set_subint_header(psrfits_object,subint_dict):\n",
    "    \"\"\"\n",
    "    prim_dict = dictionary of primary header changes\n",
    "    \"\"\"\n",
    "    PF_obj = psrfits_object\n",
    "    for key in subint_dict.keys():\n",
    "        PF_obj.replace_FITS_Record('SUBINT',key,subint_dict[key])"
   ]
  },
  {
   "cell_type": "code",
   "execution_count": 4,
   "metadata": {
    "collapsed": true
   },
   "outputs": [],
   "source": [
    "def make_subint_BinTable(self):\n",
    "    subint_draft = self.make_HDU_rec_array(self.nsubint, self.subint_dtype)\n",
    "    return subint_draft"
   ]
  },
  {
   "cell_type": "code",
   "execution_count": 10,
   "metadata": {},
   "outputs": [
    {
     "data": {
      "text/plain": [
       "'PSRFITS '"
      ]
     },
     "execution_count": 10,
     "metadata": {},
     "output_type": "execute_result"
    }
   ],
   "source": [
    "psrfits1.fits_template[0].read_header()['FITSTYPE']"
   ]
  },
  {
   "cell_type": "code",
   "execution_count": 9,
   "metadata": {},
   "outputs": [
    {
     "data": {
      "text/plain": [
       "\n",
       "SIMPLE  =                    T / file does conform to FITS standard\n",
       "BITPIX  =                    8 / number of bits per data pixel\n",
       "NAXIS   =                    0 / number of data axes\n",
       "EXTEND  =                    T / FITS dataset may contain extensions\n",
       "COMMENT   FITS (Flexible Image Transport System) format is defined in 'Astronomy\n",
       "COMMENT   and Astrophysics', volume 376, page 359; bibcode: 2001A&A...376..359H\n",
       "HDRVER  =                  3.4 / Header version\n",
       "FITSTYPE= 'PSRFITS '           / FITS definition for pulsar data files\n",
       "DATE    = '2017-01-01T20:08:41' / File creation date (YYYY-MM-DDThh:mm:ss UTC)\n",
       "OBSERVER= 'GALILEOGALILEI'     / Observer name(s)\n",
       "PROJID  = 'p3077   '           / Project name\n",
       "TELESCOP= 'Arecibo '           / Telescope name\n",
       "ANT_X   =            882589.65 / [m] Antenna ITRF X-coordinate (D)\n",
       "ANT_Y   =          -4924872.32 / [m] Antenna ITRF Y-coordinate (D)\n",
       "ANT_Z   =          3943729.348 / [m] Antenna ITRF Z-coordinate (D)\n",
       "FRONTEND= 'lbw     '           / Rx and feed ID\n",
       "NRCVR   =                    2 / Number of receiver polarisation channels\n",
       "FD_POLN = 'LIN     '           / LIN or CIRC\n",
       "FD_HAND =                   -1 / +/- 1. +1 is LIN:A=X,B=Y, CIRC:A=L,B=R (I)\n",
       "FD_SANG =                  45. / [deg] FA of E vect for equal sig in A&B (E)\n",
       "FD_XYPH =                   0. / [deg] Phase of A^* B for injected cal (E)\n",
       "BACKEND = 'PUPPI   '           / Backend ID\n",
       "BECONFIG= 'N/A     '           / Backend configuration file name\n",
       "BE_PHASE=                   -1 / 0/+1/-1 BE cross-phase:0 unknown,+/-1 std/rev\n",
       "BE_DCC  =                    0 / 0/1 BE downconversion conjugation corrected\n",
       "BE_DELAY=                   0. / [s] Backend propn delay from digitiser input\n",
       "TCYCLE  =                   0. / [s] On-line cycle time (D)\n",
       "OBS_MODE= 'SEARCH  '           / (PSR, CAL, SEARCH)\n",
       "DATE-OBS= '2017-01-01T20:08:38.000' / Date of observation (YYYY-MM-DDThh:mm:ss U\n",
       "OBSFREQ =                1400. / [MHz] Centre frequency for observation\n",
       "OBSBW   =                 200. / [MHz] Bandwidth for observation\n",
       "OBSNCHAN=                  128 / Number of frequency channels (original)\n",
       "CHAN_DM =                   0. / DM used to de-disperse each channel (pc/cm^3)\n",
       "SRC_NAME= 'J2305+3100'         / Source or scan ID\n",
       "COORD_MD= 'J2000   '           / Coordinate mode (J2000, GAL, ECLIP, etc.)\n",
       "EQUINOX =                2000. / Equinox of coords (e.g. 2000.0)\n",
       "RA      = '23:05:58.3239'      / Right ascension (hh:mm:ss.ssss)\n",
       "DEC     = '+31:00:01.8007'     / Declination (-dd:mm:ss.sss)\n",
       "BMAJ    =                   0. / [deg] Beam major axis length\n",
       "BMIN    =                   0. / [deg] Beam minor axis length\n",
       "BPA     =                   0. / [deg] Beam position angle\n",
       "STT_CRD1= '23:05:58.3239'      / Start coord 1 (hh:mm:ss.sss or ddd.ddd)\n",
       "STT_CRD2= '+31:00:01.8007'     / Start coord 2 (-dd:mm:ss.sss or -dd.ddd)\n",
       "TRK_MODE= 'TRACK   '           / Track mode (TRACK, SCANGC, SCANLAT)\n",
       "STP_CRD1= '23:05:58.3239'      / Stop coord 1 (hh:mm:ss.sss or ddd.ddd)\n",
       "STP_CRD2= '+31:00:01.8007'     / Stop coord 2 (-dd:mm:ss.sss or -dd.ddd)\n",
       "SCANLEN =                  10. / [s] Requested scan length (E)\n",
       "FD_MODE = 'FA      '           / Feed track mode - FA, CPA, SPA, TPA\n",
       "FA_REQ  =                   0. / [deg] Feed/Posn angle requested (E)\n",
       "CAL_MODE= 'OFF     '           / Cal mode (OFF, SYNC, EXT1, EXT2)\n",
       "CAL_FREQ=                   0. / [Hz] Cal modulation frequency (E)\n",
       "CAL_DCYC=                   0. / Cal duty cycle (E)\n",
       "CAL_PHS =                   0. / Cal phase (wrt start time) (E)\n",
       "STT_IMJD=                57754 / Start MJD (UTC days) (J - long integer)\n",
       "STT_SMJD=                72517 / [s] Start time (sec past UTC 00h) (J)\n",
       "STT_OFFS=     0.99999999997226 / [s] Start time offset (D)\n",
       "STT_LST =               77758. / [s] Start LST (D)"
      ]
     },
     "execution_count": 9,
     "metadata": {},
     "output_type": "execute_result"
    }
   ],
   "source": [
    "psrfits1.draft_hdrs['PRIMARY']"
   ]
  },
  {
   "cell_type": "code",
   "execution_count": null,
   "metadata": {
    "collapsed": true
   },
   "outputs": [],
   "source": [
    "periods = 1\n",
    "periodBins = 1000\n",
    "timeBins = periods*periodBins\n",
    "Sig1 = PSS.Signal(f0 = 1400, bw = 200, Nt = timeBins, Nf = 50*periods, SignalType = 'voltage')"
   ]
  },
  {
   "cell_type": "code",
   "execution_count": null,
   "metadata": {
    "collapsed": true
   },
   "outputs": [],
   "source": [
    "Psr1 = PSS.Pulsar(Sig1, flux = 100)\n",
    "Psr1.make_pulses()"
   ]
  },
  {
   "cell_type": "code",
   "execution_count": null,
   "metadata": {},
   "outputs": [],
   "source": [
    "psrfits1.write(Psr1.signal)"
   ]
  },
  {
   "cell_type": "code",
   "execution_count": null,
   "metadata": {},
   "outputs": [],
   "source": [
    "plt.figure(figsize=[10,4])\n",
    "plt.xlim(0,timeBins)\n",
    "plt.ylim(-Sig1.MetaData.gauss_draw_max, Sig1.MetaData.gauss_draw_max)\n",
    "plt.title(\"Raw Pulsar Data representing voltage vs time\")\n",
    "plt.ylabel(\"Voltage\")\n",
    "plt.xlabel(\"Time\")\n",
    "plt.plot(Psr1.signal[0,:])\n",
    "plt.show()"
   ]
  },
  {
   "cell_type": "code",
   "execution_count": null,
   "metadata": {
    "collapsed": true
   },
   "outputs": [],
   "source": [
    "Ism1 = PSS.ISM(Sig1, DM=80)"
   ]
  },
  {
   "cell_type": "code",
   "execution_count": null,
   "metadata": {
    "collapsed": true
   },
   "outputs": [],
   "source": [
    "Ism1.disperse()"
   ]
  },
  {
   "cell_type": "code",
   "execution_count": null,
   "metadata": {},
   "outputs": [],
   "source": [
    "plt.figure(figsize=[10,4])\n",
    "plt.xlim(0,timeBins)\n",
    "plt.ylim(-Sig1.MetaData.gauss_draw_max, Sig1.MetaData.gauss_draw_max)\n",
    "plt.title(\"Dispersed Pulsar Data representing voltage vs time\")\n",
    "plt.ylabel(\"Voltage\")\n",
    "plt.xlabel(\"Time\")\n",
    "plt.plot(Psr1.signal[0,:])\n",
    "plt.show()"
   ]
  },
  {
   "cell_type": "code",
   "execution_count": null,
   "metadata": {
    "collapsed": true
   },
   "outputs": [],
   "source": []
  }
 ],
 "metadata": {
  "kernelspec": {
   "display_name": "Python 3",
   "language": "python",
   "name": "python3"
  },
  "language_info": {
   "codemirror_mode": {
    "name": "ipython",
    "version": 3
   },
   "file_extension": ".py",
   "mimetype": "text/x-python",
   "name": "python",
   "nbconvert_exporter": "python",
   "pygments_lexer": "ipython3",
   "version": "3.6.3"
  }
 },
 "nbformat": 4,
 "nbformat_minor": 2
}
