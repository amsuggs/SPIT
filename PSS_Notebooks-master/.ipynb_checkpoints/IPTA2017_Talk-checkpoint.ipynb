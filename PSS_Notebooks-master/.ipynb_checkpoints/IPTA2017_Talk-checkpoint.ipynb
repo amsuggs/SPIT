{
 "cells": [
  {
   "cell_type": "markdown",
   "metadata": {
    "nbpresent": {
     "id": "2ff77790-54fe-46a6-bc74-87926d70aef5"
    },
    "slideshow": {
     "slide_type": "-"
    }
   },
   "source": [
    "# <center> NANOGrav Pulsar Signal Simulator</center> #\n",
    "## <center> IPTA 2017 Meeting: Sevres, France </center> ##\n",
    "## <center> Jeffrey S. Hazboun, UTRGV </center> ##"
   ]
  },
  {
   "cell_type": "markdown",
   "metadata": {
    "nbpresent": {
     "id": "89f9bda8-8ea4-4fa2-b6b1-f94135b7196d"
    },
    "slideshow": {
     "slide_type": "-"
    }
   },
   "source": [
    "<img src=\"./images/Fresnel.png\" style=\"width: 300px;\"/>"
   ]
  },
  {
   "cell_type": "markdown",
   "metadata": {},
   "source": [
    "### <center> Including: JSH, Michael Lam, Nathan Garver-Daniels, Paul Brooks, Paul Baker, Pete Gentile, Jing Luo, Megan De Cesar, Jim Cordes, Joe Lazio, _Amelia Henkel (REU)_ , _Cassidy Wagner (REU)_ </center> ###"
   ]
  },
  {
   "cell_type": "markdown",
   "metadata": {},
   "source": [
    "*If I forgot your name, show up to the telecons more often. "
   ]
  },
  {
   "cell_type": "markdown",
   "metadata": {},
   "source": [
    "## <center> Why a pulsar signal simulator? </center> ##"
   ]
  },
  {
   "cell_type": "markdown",
   "metadata": {},
   "source": [
    "1. Definitely not the first ones to think of this...\n",
    "<img src=\"./images/wheel.jpg\" style=\"width: 500px;\"/>\n",
    "2. Strength in multiple approaches and platforms."
   ]
  },
  {
   "cell_type": "markdown",
   "metadata": {},
   "source": [
    "## Simulator Summary ##"
   ]
  },
  {
   "cell_type": "markdown",
   "metadata": {},
   "source": [
    "1. Simulate Pulsar Signals (NANOGrav Effort: Since Jan 2017)\n",
    "    * ISM (IISM) has been the priority.\n",
    "    * Timing is the next process on the list. (PINT)\n",
    "    * Optimistic view is for use in a full simulation. (more hands on deck)\n",
    "2. Teach people (students) about pulsar signals.\n",
    "    * \"Explore Mode\"\n",
    "    * Show students Baseband data!\n",
    "    * Outreach\n",
    "3. Many other use ideas:\n",
    "    * Mock Data Challenge?\n",
    "    * Testing search pipelines.\n",
    "    * FRBs.\n",
    "    * Highly relativistic binary timing models. \n",
    "    * Testing Telescope use for pulsars."
   ]
  },
  {
   "cell_type": "markdown",
   "metadata": {},
   "source": [
    " ## Design ##\n",
    " 1. Designed for __YOU__ to use it!! It's the skeleton for what you need. \n",
    " <img src=\"./images/centaur-skeleton.jpg\" style=\"width: 300px;\"/>\n",
    " 2. Python Based (Python 3, with backwards compatibility).\n",
    "     * But really Python 2? Get over it they're just parenthesis.\n",
    " 3. Git version control. \n",
    "     * Code is on GitHub. https://github.com/PsrSigSim\n",
    "     * Example notebooks on GitHub.\n",
    "     * Well documented. \n",
    "     * Unit tests with Version 1.0 release.\n",
    " 4. Modular design. \n",
    "     * Multiple models for the different processes.\n",
    "     * Allow for user to add their \"tweak\" at any point in the simulation.\n",
    " 5. PSRFITS or Python Array output\n",
    " 6. Optimized simulation mode\n",
    "     * Take `.par` or other input files (`.src`).\n",
    "     * FFTW, (PyCUDA, in the future..)\n",
    " 7. Easily connects to the NANOGrav API for data\n",
    "     * IPTA API ? "
   ]
  },
  {
   "cell_type": "markdown",
   "metadata": {
    "nbpresent": {
     "id": "a9d3dc4a-028c-4ec7-a31c-b324841c6018"
    },
    "slideshow": {
     "slide_type": "slide"
    }
   },
   "source": [
    "<img src=\"./images/Architecture.pdf\" style=\"width: 700px;\" />\n",
    "<img src=\"./images/Architecture_Meta.pdf\" style=\"width: 700px;\" />"
   ]
  },
  {
   "cell_type": "code",
   "execution_count": null,
   "metadata": {
    "nbpresent": {
     "id": "56fa5f1f-8451-45a4-afc5-b8ef90ad4d01"
    }
   },
   "outputs": [],
   "source": [
    "#Import the usual suspects.\n",
    "%load_ext autoreload\n",
    "%autoreload 2\n",
    "import numpy as np\n",
    "import scipy as sp\n",
    "from matplotlib.pyplot import *\n",
    "%matplotlib inline\n",
    "\n",
    "# Load the Simulator \n",
    "# For now, if the simualtor isn't in the current working directory include\n",
    "# import sys\n",
    "# sys.path.append('/path/to/simulator/') # where the last directory is the one above VersionZeroPointZero\n",
    "import sys\n",
    "sys.path.append('/Users/jeffreyhazboun/GoogleDrive/PulsarSignalSimulator/PsrSigSim_GitHub/')\n",
    "import VersionZeroPointZero as PSS\n",
    "from VersionZeroPointZero.PSS_plot import joy_division_profiles"
   ]
  },
  {
   "cell_type": "code",
   "execution_count": null,
   "metadata": {
    "collapsed": true,
    "nbpresent": {
     "id": "f2dfa230-9c3a-476d-9be5-d696e2786383"
    }
   },
   "outputs": [],
   "source": [
    "# Some helpful redefinitions for Matplotlib\n",
    "rcParams['figure.figsize'] = (6.0,4.0)\n",
    "rcParams.update({'font.size': 14})\n",
    "Cmap = cm.afmhot \n",
    "Cmap.set_bad(color='k',alpha=1.0) #PSRCHIVE Colormap, care of Michael Lam"
   ]
  },
  {
   "cell_type": "code",
   "execution_count": null,
   "metadata": {
    "collapsed": true,
    "nbpresent": {
     "id": "9e04e1fb-af50-4901-b4b0-3929c22e7fd9"
    }
   },
   "outputs": [],
   "source": [
    "# I'll put this little gem into the simulator next later. \n",
    "def ProfilePlot(array, step=1, N=10,Title='Profile by Frequency Channel'):\n",
    "    try:\n",
    "        array_len = len(N)\n",
    "        jj = 0\n",
    "        for ii, jj in enumerate(N):\n",
    "            plot(array[jj,:]+ii*(step),c='k')\n",
    "        n=len(N)\n",
    "    except:\n",
    "        Freq_channels = len(array[:,0])\n",
    "        Freq_step = int(Freq_channels//N)\n",
    "        for ii in range(N):\n",
    "            plot(array[ii*Freq_step,:]+ii*(step),c='k')\n",
    "        n=N\n",
    "    title(Title)\n",
    "    xlabel('Phase')\n",
    "    ylabel('Frequency Channel')\n",
    "    xticks([])\n",
    "    yticks([])\n",
    "    xlim(0,len(array[0,:]))\n",
    "    ylim(0,n*step+0.1)\n",
    "    show()"
   ]
  },
  {
   "cell_type": "markdown",
   "metadata": {},
   "source": [
    "# Okay, start paying attention again. "
   ]
  },
  {
   "cell_type": "code",
   "execution_count": null,
   "metadata": {
    "collapsed": true,
    "nbpresent": {
     "id": "a9e34c6b-aa65-4a31-8400-463fa0154350"
    }
   },
   "outputs": [],
   "source": [
    "#The Simple Case\n",
    "S = PSS.Signal()\n",
    "P = PSS.Pulsar(S)"
   ]
  },
  {
   "cell_type": "code",
   "execution_count": null,
   "metadata": {
    "nbpresent": {
     "id": "e6de61ed-fba4-43c2-991d-e2225a941dfe"
    }
   },
   "outputs": [],
   "source": [
    "PSS.PSS_plot.joy_division_profiles(P,N=1,Title='Profile')"
   ]
  },
  {
   "cell_type": "code",
   "execution_count": null,
   "metadata": {
    "nbpresent": {
     "id": "f67d0c81-702a-4db1-b3f6-a21a95f530a6"
    }
   },
   "outputs": [],
   "source": [
    "P.make_pulses() #The commmand that makest the pulses"
   ]
  },
  {
   "cell_type": "code",
   "execution_count": null,
   "metadata": {
    "nbpresent": {
     "id": "e2fa0144-65c1-4cd9-9757-d1584b66f572"
    }
   },
   "outputs": [],
   "source": [
    "S.pulse_plot() #A shortcut plotting command"
   ]
  },
  {
   "cell_type": "code",
   "execution_count": null,
   "metadata": {
    "nbpresent": {
     "id": "4a3438b4-4999-4fba-b7cd-35efe8a561d2"
    }
   },
   "outputs": [],
   "source": [
    "S.filter_bank(N_pulses=2) #Another shortcut plotting command"
   ]
  },
  {
   "cell_type": "code",
   "execution_count": null,
   "metadata": {
    "nbpresent": {
     "id": "408f35c2-866f-4dbc-95a2-bebe60344d10"
    }
   },
   "outputs": [],
   "source": [
    "ism = PSS.ISM(S) #Instantiate an ISM class"
   ]
  },
  {
   "cell_type": "code",
   "execution_count": null,
   "metadata": {
    "collapsed": true,
    "nbpresent": {
     "id": "592bea57-6cd2-41df-8ba8-885f99b2aba7"
    }
   },
   "outputs": [],
   "source": [
    "ism.disperse() #Command to disperse the signal"
   ]
  },
  {
   "cell_type": "code",
   "execution_count": null,
   "metadata": {
    "nbpresent": {
     "id": "11b72096-8474-4036-a449-a35b30d3050e"
    }
   },
   "outputs": [],
   "source": [
    "S.filter_bank(N_pulses = 2) #Note the option to show any number of pulses (also in pulse_plot())"
   ]
  },
  {
   "cell_type": "code",
   "execution_count": null,
   "metadata": {
    "nbpresent": {
     "id": "6f85dc57-31bf-41b8-8b4d-2f6e821ce0f7"
    }
   },
   "outputs": [],
   "source": [
    "del S,P,ism #Get rid of these to save memory"
   ]
  },
  {
   "cell_type": "markdown",
   "metadata": {},
   "source": [
    "Sets our one hundred thousand time bin array to the GUPPI sample rate. GUPPI Sample rate = 20.48 microseconds"
   ]
  },
  {
   "cell_type": "code",
   "execution_count": null,
   "metadata": {
    "nbpresent": {
     "id": "e7ad067b-0997-4de5-a49d-4a8eec321161"
    }
   },
   "outputs": [],
   "source": [
    "sample_size = 20.48e-3\n",
    "N_Time_Bins = 100000 #One hundred Thousand\n",
    "Total_time = round(N_Time_Bins*sample_size)\n",
    "subband =1.5625 \n",
    "BW=200\n",
    "N_freq = BW/subband\n",
    "print('Total_time (ms)',Total_time)\n",
    "print('N_freq',N_freq)\n",
    "print('Number of pulses = ',round(Total_time/8.3))"
   ]
  },
  {
   "cell_type": "code",
   "execution_count": null,
   "metadata": {
    "collapsed": true,
    "nbpresent": {
     "id": "20ecc2b4-2a4b-4ab3-80ec-8dac511b23f4"
    }
   },
   "outputs": [],
   "source": [
    "S1= PSS.Signal(f0=1400, bw=200, Nf=N_freq, Nt=N_Time_Bins)"
   ]
  },
  {
   "cell_type": "code",
   "execution_count": null,
   "metadata": {
    "collapsed": true,
    "nbpresent": {
     "id": "a77db592-6033-4b7a-b418-e552a69df421"
    }
   },
   "outputs": [],
   "source": [
    "P1= PSS.Pulsar(S1,period=8.3)"
   ]
  },
  {
   "cell_type": "code",
   "execution_count": null,
   "metadata": {
    "nbpresent": {
     "id": "85211f27-95af-4d22-bf09-ed0ab20b13c2"
    },
    "scrolled": true
   },
   "outputs": [],
   "source": [
    "S1.MetaData.__dict__ #The MetaData subclass of Signal carries all of the info about the simulation."
   ]
  },
  {
   "cell_type": "code",
   "execution_count": null,
   "metadata": {
    "collapsed": true,
    "nbpresent": {
     "id": "882139c6-cfdf-4ad5-8978-378e54e31625"
    }
   },
   "outputs": [],
   "source": [
    "#Arrays that define gaussian components of average profiles\n",
    "peak = np.random.randn(S1.Nf*3)*0.03 + 0.2\n",
    "width = abs(np.random.randn(S1.Nf*3)*0.002 +0.012)\n",
    "amp = np.random.randn(S1.Nf*3)**2\n",
    "peak.resize(S1.Nf,3)\n",
    "width.resize(S1.Nf,3)\n",
    "amp.resize(S1.Nf,3)\n",
    "#peak # Uncomment this line to see the shape of the array"
   ]
  },
  {
   "cell_type": "code",
   "execution_count": null,
   "metadata": {
    "nbpresent": {
     "id": "09472323-9d22-4a6a-b2f1-6bde0c7c22d0"
    }
   },
   "outputs": [],
   "source": [
    "P1.gauss_template(peak=peak,width=width,amp=amp) "
   ]
  },
  {
   "cell_type": "markdown",
   "metadata": {},
   "source": [
    "The `gauss_template()` command recognizes three different array shapes and assumes what to do, depending on which array shape is given. See documentation for details, `help(P1.gauss_template)`. These are a set of __randomly chosen__ gaussian components. One could put in an array that showed pulse evolution (in frequency) for a given pulsar, or put in the same gaussian in all frequency channels. "
   ]
  },
  {
   "cell_type": "code",
   "execution_count": null,
   "metadata": {
    "nbpresent": {
     "id": "24440a82-29a7-4897-8186-3255c2f191f6"
    }
   },
   "outputs": [],
   "source": [
    "imshow(P1.profile,aspect='auto',cmap=Cmap)\n",
    "show()\n",
    "joy_division_profiles(P1,1,N=S1.Nf)"
   ]
  },
  {
   "cell_type": "markdown",
   "metadata": {},
   "source": [
    "## <center> Average Profile </center>"
   ]
  },
  {
   "cell_type": "code",
   "execution_count": null,
   "metadata": {},
   "outputs": [],
   "source": [
    "plot(np.sum(P1.profile,axis=0),c='k')\n",
    "xticks([])\n",
    "yticks([])\n",
    "xlabel('Pulse Phase')\n",
    "show()"
   ]
  },
  {
   "cell_type": "code",
   "execution_count": null,
   "metadata": {
    "nbpresent": {
     "id": "93f2fc98-2223-44d6-85d7-dbf44d4fe9c9"
    }
   },
   "outputs": [],
   "source": [
    "P1.make_pulses()"
   ]
  },
  {
   "cell_type": "code",
   "execution_count": null,
   "metadata": {
    "nbpresent": {
     "id": "7663b8ad-cc73-42ea-82f5-29475722be3d"
    }
   },
   "outputs": [],
   "source": [
    "S1.filter_bank()"
   ]
  },
  {
   "cell_type": "code",
   "execution_count": null,
   "metadata": {
    "nbpresent": {
     "id": "93f937ba-168f-4618-ab60-d6e9a000c656"
    }
   },
   "outputs": [],
   "source": [
    "S1.MetaData.__dict__.keys()"
   ]
  },
  {
   "cell_type": "code",
   "execution_count": null,
   "metadata": {
    "collapsed": true
   },
   "outputs": [],
   "source": [
    "del S1, P1"
   ]
  },
  {
   "cell_type": "code",
   "execution_count": null,
   "metadata": {
    "collapsed": true,
    "nbpresent": {
     "id": "877e07a1-621f-4a74-8d8d-437f266cd109"
    }
   },
   "outputs": [],
   "source": [
    "S2=PSS.Signal(f0=400,bw=200,Nf=N_freq,Nt=N_Time_Bins,mode='simulate')\n",
    "P2=PSS.Pulsar(S2,period=8.3)"
   ]
  },
  {
   "cell_type": "code",
   "execution_count": null,
   "metadata": {
    "nbpresent": {
     "id": "274a0106-d2d2-4804-a077-31631166f187"
    }
   },
   "outputs": [],
   "source": [
    "joy_division_profiles(P2)"
   ]
  },
  {
   "cell_type": "markdown",
   "metadata": {},
   "source": [
    "#### Convolve our Filterbank Signal with a top hat to mimic dispersion broadening  (Cassidy Wagner)"
   ]
  },
  {
   "cell_type": "code",
   "execution_count": null,
   "metadata": {
    "collapsed": true
   },
   "outputs": [],
   "source": [
    "ISM2 = PSS.ISM(S2,DM=2)"
   ]
  },
  {
   "cell_type": "code",
   "execution_count": null,
   "metadata": {},
   "outputs": [],
   "source": [
    "ISM2.to_DM_Broaden = True\n",
    "ISM2.finalize_ism()"
   ]
  },
  {
   "cell_type": "code",
   "execution_count": null,
   "metadata": {
    "collapsed": true
   },
   "outputs": [],
   "source": [
    "Sim2 = PSS.Simulation(S2,P2,ISM2)"
   ]
  },
  {
   "cell_type": "code",
   "execution_count": null,
   "metadata": {},
   "outputs": [],
   "source": [
    "joy_division_profiles(P2)"
   ]
  },
  {
   "cell_type": "code",
   "execution_count": null,
   "metadata": {
    "collapsed": true
   },
   "outputs": [],
   "source": [
    "del S2,P2,ISM2,Sim2"
   ]
  },
  {
   "cell_type": "code",
   "execution_count": null,
   "metadata": {
    "collapsed": true
   },
   "outputs": [],
   "source": [
    "S2b=PSS.Signal(f0=400,bw=200,Nf=N_freq,Nt=N_Time_Bins,mode='simulate')\n",
    "P2b=PSS.Pulsar(S2b,period=8.3)"
   ]
  },
  {
   "cell_type": "code",
   "execution_count": null,
   "metadata": {},
   "outputs": [],
   "source": [
    "ISM2b = PSS.ISM(S2b,DM=2)\n",
    "ISM2b.tau_scatter = 0.4\n",
    "ISM2b.to_Scatter_Broaden_exp = True\n",
    "ISM2b.finalize_ism()\n",
    "Sim2b = PSS.Simulation(S2b,P2b,ISM2b)"
   ]
  },
  {
   "cell_type": "code",
   "execution_count": null,
   "metadata": {},
   "outputs": [],
   "source": [
    "joy_division_profiles(P2b,N=3)"
   ]
  },
  {
   "cell_type": "code",
   "execution_count": null,
   "metadata": {
    "collapsed": true
   },
   "outputs": [],
   "source": [
    "del S2b,P2b,ISM2b,Sim2b"
   ]
  },
  {
   "cell_type": "code",
   "execution_count": null,
   "metadata": {
    "collapsed": true,
    "nbpresent": {
     "id": "5825c916-00b3-430b-8125-7fda95d971b1"
    }
   },
   "outputs": [],
   "source": [
    "S3=PSS.Signal(f0=2000,bw=200,Nt=N_Time_Bins,SignalType='voltage')\n",
    "P3=PSS.Pulsar(S3,period=8.3)\n",
    "P3.gauss_template([0.15,0.22],[.01,.02],[.01,.02])"
   ]
  },
  {
   "cell_type": "code",
   "execution_count": null,
   "metadata": {
    "collapsed": true,
    "nbpresent": {
     "id": "70b0dab2-7c55-4a1d-8072-66337414067e"
    }
   },
   "outputs": [],
   "source": [
    "P3.make_pulses()"
   ]
  },
  {
   "cell_type": "code",
   "execution_count": null,
   "metadata": {
    "nbpresent": {
     "id": "04d51592-45b2-497b-968d-e549cbb6e736"
    }
   },
   "outputs": [],
   "source": [
    "S3.pulse_plot(N_pulses=2)"
   ]
  },
  {
   "cell_type": "code",
   "execution_count": null,
   "metadata": {
    "collapsed": true
   },
   "outputs": [],
   "source": [
    "ISM3 = PSS.ISM(S3,DM=2)"
   ]
  },
  {
   "cell_type": "code",
   "execution_count": null,
   "metadata": {
    "collapsed": true
   },
   "outputs": [],
   "source": [
    "ISM3.disperse()"
   ]
  },
  {
   "cell_type": "code",
   "execution_count": null,
   "metadata": {},
   "outputs": [],
   "source": [
    "S3.pulse_plot(N_pulses=2)"
   ]
  },
  {
   "cell_type": "code",
   "execution_count": null,
   "metadata": {},
   "outputs": [],
   "source": [
    "del S3,P3,ISM3"
   ]
  },
  {
   "cell_type": "code",
   "execution_count": null,
   "metadata": {
    "nbpresent": {
     "id": "5a7e8cf6-ad6b-4717-b872-5e2baf4aeb5e"
    }
   },
   "outputs": [],
   "source": [
    "S4 = PSS.Signal(f0=324, bw=6, Nf=250, Nt=12000,\\\n",
    "                TotTime = 1200, SignalType='intensity', data_type='int8')\n",
    "P4 = PSS.Pulsar(S4, period=20)\n",
    "dims = 200\n",
    "DM = 22\n",
    "Range = [0, S4.Nf//2, S4.Nf-1]\n",
    "Phase_Screen = PSS.phase_screen(S4, scint_param_model='Bhat',DM=DM, Nx = 4*dims, Ny = dims, Number_r_F=1/128.)"
   ]
  },
  {
   "cell_type": "code",
   "execution_count": null,
   "metadata": {
    "nbpresent": {
     "id": "a71fa402-c6a0-4329-bcf8-54c91db3ac58"
    }
   },
   "outputs": [],
   "source": [
    "Gain1 = PSS.images(Phase_Screen,S4,mode='explore')"
   ]
  },
  {
   "cell_type": "markdown",
   "metadata": {},
   "source": [
    "## References\n",
    "\n",
    "Cordes et al.(1986); Coles et al. (1987); Foster & Cordes (1990); Hu et al. (1991) and Coles et al. (2010)"
   ]
  },
  {
   "cell_type": "code",
   "execution_count": null,
   "metadata": {
    "nbpresent": {
     "id": "cef7813b-298e-42ce-bdf5-c1557530399d"
    }
   },
   "outputs": [],
   "source": [
    "Gain1.gain_pdf()"
   ]
  },
  {
   "cell_type": "markdown",
   "metadata": {},
   "source": [
    "# Scattering Realization"
   ]
  },
  {
   "cell_type": "code",
   "execution_count": null,
   "metadata": {},
   "outputs": [],
   "source": [
    "finite_sample = Gain1.gain[3,:200,100]\n",
    "t=np.linspace(0,finite_sample.max(),100)\n",
    "hist(finite_sample,bins=50,histtype='step',normed=True)\n",
    "plot(t,np.exp(-t))\n",
    "xlim(0,10)\n",
    "show()"
   ]
  },
  {
   "cell_type": "code",
   "execution_count": null,
   "metadata": {
    "nbpresent": {
     "id": "b6b73d5f-d290-4ef1-baeb-4364c9707a84"
    }
   },
   "outputs": [],
   "source": [
    "Gain1.dynamic_spectrum(S4)"
   ]
  },
  {
   "cell_type": "markdown",
   "metadata": {},
   "source": [
    "### Note: This is not actually a dynamic spectrum , but the intensity screen one gets from the kernel diffraction integral and its autocorrelation. It is meant as a visual check on the scintillation screen simulation."
   ]
  },
  {
   "cell_type": "code",
   "execution_count": null,
   "metadata": {},
   "outputs": [],
   "source": [
    "del S4,P4, Phase_Screen, Gain1"
   ]
  },
  {
   "cell_type": "code",
   "execution_count": null,
   "metadata": {},
   "outputs": [],
   "source": [
    "J1713_profile = np.load('J1713+0747_pulses.npy')[20,:] #Load in atemplate for J1713+0747\n",
    "J1713_profile /= J1713_profile.max() #Normalize the template\n",
    "J1713_cleaned = np.append(np.append(np.zeros(775),J1713_profile[775:1350]),np.zeros(2048-1350))\n",
    "#Above we clean the off pulse noise for simulation purposes.\n",
    "plot(J1713_profile)\n",
    "plot(J1713_cleaned,'--')\n",
    "xlim(0,2048)\n",
    "show()"
   ]
  },
  {
   "cell_type": "code",
   "execution_count": null,
   "metadata": {},
   "outputs": [],
   "source": [
    "S5= PSS.Signal(f0=820,bw=200,Nf=len(J1713_profile),Nt=N_Time_Bins,TotTime=Total_time,mode='simulate')\n",
    "P5= PSS.Pulsar(S5,period=(1/218.8)*1e3)"
   ]
  },
  {
   "cell_type": "code",
   "execution_count": null,
   "metadata": {},
   "outputs": [],
   "source": [
    "P5.user_template(J1713_cleaned)"
   ]
  },
  {
   "cell_type": "code",
   "execution_count": null,
   "metadata": {},
   "outputs": [],
   "source": [
    "joy_division_profiles(P5,step=0.7, N=[20,45,70,90,110,111])"
   ]
  },
  {
   "cell_type": "code",
   "execution_count": null,
   "metadata": {},
   "outputs": [],
   "source": [
    "ISM5 = PSS.ISM(S5)\n",
    "ISM5.DM = 15.990354 # From J1713+0747 .par file. \n",
    "ISM5.finalize_ism()"
   ]
  },
  {
   "cell_type": "code",
   "execution_count": null,
   "metadata": {
    "nbpresent": {
     "id": "a72f194e-e3fe-4f67-ab24-6420d5e03391"
    }
   },
   "outputs": [],
   "source": [
    "Scint5 = PSS.scintillate(S5,to_use_NG_pulsar=True,\\\n",
    "                         pulsar='J1713+0747',telescope='GBT',freq_band=820)\n",
    "#We can enter the name for a NANOGrav pulsar and get its scintillation parameters"
   ]
  },
  {
   "cell_type": "code",
   "execution_count": null,
   "metadata": {},
   "outputs": [],
   "source": [
    "Scint6 = PSS.scintillate(S5,scint_timescale=0.1,scint_bw=1.48)\n",
    "#The scint parameters of J1713 aren't that interesting on a short timescale so I've set different ones. "
   ]
  },
  {
   "cell_type": "code",
   "execution_count": null,
   "metadata": {
    "collapsed": true
   },
   "outputs": [],
   "source": [
    "Simul5 = PSS.Simulation(S5,P5,ISM5,Scint6)"
   ]
  },
  {
   "cell_type": "code",
   "execution_count": null,
   "metadata": {},
   "outputs": [],
   "source": [
    "Sim1a = Simul5.simulate()"
   ]
  },
  {
   "cell_type": "markdown",
   "metadata": {},
   "source": [
    "A scintillated set of profiles is used to simulate the scintillation, where the gains by freuqnecy are given from a thin screen simulation. "
   ]
  },
  {
   "cell_type": "code",
   "execution_count": null,
   "metadata": {},
   "outputs": [],
   "source": [
    "joy_division_profiles(P5,step=30) "
   ]
  },
  {
   "cell_type": "markdown",
   "metadata": {},
   "source": [
    "### The entire signal has been scintillated, however a dynamic spectrum script has not yet been completed for the PSS."
   ]
  },
  {
   "cell_type": "markdown",
   "metadata": {},
   "source": [
    "## Remember, this simulator is meant to be flexible... FRBs !!"
   ]
  },
  {
   "cell_type": "markdown",
   "metadata": {},
   "source": [
    "<img src=\"./images/dispersed_burst.png\" style=\"width: 500px;\" />"
   ]
  },
  {
   "cell_type": "markdown",
   "metadata": {},
   "source": [
    "## Looking Forward (In no particular order)\n",
    "1. Visualization (`Bokeh`, thanks to Aditya)\n",
    "2. More advanced scattering simulations\n",
    "3. Timing model\n",
    "4. Command Line access\n",
    "5. Python Class Factories\n",
    "6. More Amplitude Modulated Noise Distribution Choices\n",
    "7. Richard Prestage's (GBT)  phased array simulation"
   ]
  },
  {
   "cell_type": "markdown",
   "metadata": {},
   "source": [
    "# <center> Please Join Us! </center>\n",
    "## <center> (IPTA Simulator ?) </center>"
   ]
  },
  {
   "cell_type": "markdown",
   "metadata": {},
   "source": [
    "Note to beat a dead horse, but...<img src=\"./images/Horse_and_Man.jpg\" style=\"width: 220px;\" />"
   ]
  },
  {
   "cell_type": "markdown",
   "metadata": {},
   "source": [
    " ### The simulator development is still plastic. Many of you have strong opinions about pulsar software. I would really like to here what you have to say _before_ the simulator has been fully... _fleshed out_."
   ]
  },
  {
   "cell_type": "code",
   "execution_count": null,
   "metadata": {
    "collapsed": true
   },
   "outputs": [],
   "source": [
    "#Unless you want to tell me to code it in c..."
   ]
  },
  {
   "cell_type": "markdown",
   "metadata": {},
   "source": [
    "1. Submit an enhancement request on our GitHub page.\n",
    "2. Send me an email with any questions, advice, dreams of a perfect simulator.\n",
    "3. Please consider sharing any pulsar related python scripts that you might want others to use, or that you might want implemented in the"
   ]
  },
  {
   "cell_type": "markdown",
   "metadata": {},
   "source": [
    "## <center> Version 1.0 release in Fall 2017 !!</center>"
   ]
  },
  {
   "cell_type": "code",
   "execution_count": null,
   "metadata": {
    "collapsed": true
   },
   "outputs": [],
   "source": []
  }
 ],
 "metadata": {
  "anaconda-cloud": {},
  "kernelspec": {
   "display_name": "Python 3",
   "language": "python",
   "name": "python3"
  },
  "language_info": {
   "codemirror_mode": {
    "name": "ipython",
    "version": 3
   },
   "file_extension": ".py",
   "mimetype": "text/x-python",
   "name": "python",
   "nbconvert_exporter": "python",
   "pygments_lexer": "ipython3",
   "version": "3.6.3"
  },
  "nbpresent": {
   "slides": {
    "c76f008d-7aec-465a-b629-12925ec35fb1": {
     "id": "c76f008d-7aec-465a-b629-12925ec35fb1",
     "layout": "manual",
     "prev": "e4263190-269f-4473-bf21-eafd060a7648",
     "regions": {
      "e90fb322-f2c9-486d-af5d-ca51add5f990": {
       "attrs": {
        "height": 1,
        "width": 1,
        "x": 0,
        "y": 0
       },
       "id": "e90fb322-f2c9-486d-af5d-ca51add5f990"
      }
     }
    },
    "e4263190-269f-4473-bf21-eafd060a7648": {
     "id": "e4263190-269f-4473-bf21-eafd060a7648",
     "prev": null,
     "regions": {
      "f822a4e7-67ad-4c93-bde2-d4ba1a23a767": {
       "attrs": {
        "height": 1,
        "width": 1,
        "x": 0,
        "y": 0
       },
       "id": "f822a4e7-67ad-4c93-bde2-d4ba1a23a767"
      }
     }
    }
   },
   "themes": {}
  }
 },
 "nbformat": 4,
 "nbformat_minor": 1
}
