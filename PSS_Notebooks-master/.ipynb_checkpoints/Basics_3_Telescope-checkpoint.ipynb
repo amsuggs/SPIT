{
 "cells": [
  {
   "cell_type": "code",
   "execution_count": null,
   "metadata": {
    "collapsed": true
   },
   "outputs": [],
   "source": [
    "import numpy as np\n",
    "import matplotlib.pyplot as plt\n",
    "% matplotlib inline\n",
    "%load_ext autoreload\n",
    "%autoreload 2\n",
    "import sys\n",
    "sys.path.append('/Users/suggsa/Documents/SPIT/PulsarSimulator/')\n",
    "import VersionZeroPointZero as PSS\n",
    "import math, scipy\n",
    "import scipy as sp\n",
    "from scipy import signal"
   ]
  },
  {
   "cell_type": "code",
   "execution_count": null,
   "metadata": {
    "collapsed": true
   },
   "outputs": [],
   "source": [
    "Periods = 200\n",
    "PeriodBins = 2500\n",
    "Nt = Periods*PeriodBins\n",
    "S1 = PSS.Signal(1400, 200, 20, Nt, 50*Periods)\n",
    "S2 = PSS.Signal()\n",
    "print(Periods)\n",
    "print(\"Number of Time Bins:\",Nt)"
   ]
  },
  {
   "cell_type": "code",
   "execution_count": null,
   "metadata": {
    "collapsed": true
   },
   "outputs": [],
   "source": [
    "P1 = PSS.Pulsar(S1, flux=100)\n",
    "P1.TimeBinSize"
   ]
  },
  {
   "cell_type": "code",
   "execution_count": null,
   "metadata": {
    "collapsed": true
   },
   "outputs": [],
   "source": [
    "P1.make_pulses()"
   ]
  },
  {
   "cell_type": "code",
   "execution_count": null,
   "metadata": {
    "collapsed": true
   },
   "outputs": [],
   "source": [
    "plt.figure(figsize=[10,4])\n",
    "plt.xlim(0,8048)\n",
    "# plt.ylim(0,)\n",
    "#plt.yticks([])\n",
    "plt.title(\"Pulses, pulled from a $\\gamma$-distribution\")\n",
    "plt.plot(P1.signal[0,:])\n",
    "plt.show()"
   ]
  },
  {
   "cell_type": "code",
   "execution_count": null,
   "metadata": {
    "collapsed": true
   },
   "outputs": [],
   "source": [
    "plt.figure(figsize=[10,4])\n",
    "plt.xlim(2048,8000)\n",
    "plt.title(\"FilterBank Data\")\n",
    "plt.imshow(S1.signal[:,:8000],origin='left',aspect='auto',interpolation='none')\n",
    "plt.show()"
   ]
  },
  {
   "cell_type": "code",
   "execution_count": null,
   "metadata": {
    "collapsed": true
   },
   "outputs": [],
   "source": [
    "S1.signal.value\n",
    "print(S1.signal.value)"
   ]
  },
  {
   "cell_type": "code",
   "execution_count": null,
   "metadata": {
    "collapsed": true
   },
   "outputs": [],
   "source": [
    "ISM1 = PSS.ISM(S1, DM=80)"
   ]
  },
  {
   "cell_type": "code",
   "execution_count": null,
   "metadata": {
    "collapsed": true
   },
   "outputs": [],
   "source": [
    "ISM1.disperse()"
   ]
  },
  {
   "cell_type": "code",
   "execution_count": null,
   "metadata": {
    "collapsed": true,
    "scrolled": true
   },
   "outputs": [],
   "source": [
    "plt.figure(figsize=[10,4])\n",
    "plt.xlim(2048,20000)\n",
    "plt.title(\"Dispersed Filterbank Data\")\n",
    "plt.imshow(S1.signal[:,:20000],origin='left',aspect='auto',interpolation='none')\n",
    "plt.show()"
   ]
  },
  {
   "cell_type": "code",
   "execution_count": null,
   "metadata": {
    "collapsed": true
   },
   "outputs": [],
   "source": [
    "GBT1 = PSS.telescope.GBT()"
   ]
  },
  {
   "cell_type": "code",
   "execution_count": null,
   "metadata": {
    "collapsed": true
   },
   "outputs": [],
   "source": [
    "GBT1.systems"
   ]
  },
  {
   "cell_type": "code",
   "execution_count": null,
   "metadata": {
    "collapsed": true,
    "scrolled": true
   },
   "outputs": [],
   "source": [
    "GBTout = GBT1.observe(signal=S1, system=\"Lband_GUPPI\", noise=True)"
   ]
  },
  {
   "cell_type": "code",
   "execution_count": null,
   "metadata": {
    "collapsed": true
   },
   "outputs": [],
   "source": [
    "plt.figure(figsize=[10,4])\n",
    "plt.title(\"Downsampled Telescope Data with WN\")\n",
    "plt.xlim(0,1024)\n",
    "plt.imshow(GBTout,origin='left',aspect='auto',interpolation='none')\n",
    "plt.ylabel(\"blah\")#set_xlabel(\"Time (ms)\")\n",
    "plt.xlabel(\"Frequency (MHz)\")\n",
    "plt.show()\n",
    "plt.xlim(0,1024)\n",
    "#plt.ylim(0,30000)\n",
    "plt.yticks([])\n",
    "plt.xticks([])\n",
    "plt.plot(GBTout)\n",
    "plt.show()"
   ]
  },
  {
   "cell_type": "code",
   "execution_count": null,
   "metadata": {
    "collapsed": true
   },
   "outputs": [],
   "source": [
    "GBT1.fold(50.0, N_Folds=100)#(Period (ms), Number of Folds)\n",
    "plt.figure(figsize=[10,4])\n",
    "#plt.xlim(0,1024)\n",
    "plt.title(\"Folded Telescope Data\")\n",
    "plt.imshow(GBT1.folded,origin='left',aspect='auto',interpolation='none',cmap='magma')\n",
    "plt.show()"
   ]
  },
  {
   "cell_type": "code",
   "execution_count": null,
   "metadata": {
    "collapsed": true
   },
   "outputs": [],
   "source": [
    "#plt.xlim(0,1024)\n",
    "plt.yticks([])\n",
    "plt.plot(GBT1.folded[0,:])\n",
    "\n",
    "plt.show()"
   ]
  },
  {
   "cell_type": "code",
   "execution_count": null,
   "metadata": {
    "collapsed": true
   },
   "outputs": [],
   "source": [
    "GBT1.noise_norm *= 2"
   ]
  },
  {
   "cell_type": "code",
   "execution_count": null,
   "metadata": {
    "collapsed": true
   },
   "outputs": [],
   "source": [
    "GBT1.observe(noise=True)"
   ]
  },
  {
   "cell_type": "code",
   "execution_count": null,
   "metadata": {
    "collapsed": true
   },
   "outputs": [],
   "source": [
    "plt.figure(figsize=[10,4])\n",
    "plt.title(\"Downsampled Telescope Data with WN\")\n",
    "plt.xlim(0,1024)\n",
    "plt.imshow(GBT1.signal,origin='left',aspect='auto',interpolation='none')\n",
    "plt.show()\n",
    "plt.xlim(0,1024)\n",
    "#plt.ylim(0,30000)\n",
    "plt.yticks([])\n",
    "plt.xticks([])\n",
    "plt.plot(GBT1.signal[0,:])\n",
    "plt.show()"
   ]
  },
  {
   "cell_type": "code",
   "execution_count": null,
   "metadata": {
    "collapsed": true,
    "scrolled": true
   },
   "outputs": [],
   "source": [
    "GBT1.fold(50.0, N_Folds=40)#(Period (ms), Number of Folds)\n",
    "plt.figure(figsize=[10,4])\n",
    "#plt.xlim(0,1024)\n",
    "plt.title(\"Folded Telescope Data\")\n",
    "plt.imshow(GBT1.folded,origin='left',aspect='auto',interpolation='none')\n",
    "plt.show()"
   ]
  },
  {
   "cell_type": "code",
   "execution_count": null,
   "metadata": {
    "collapsed": true
   },
   "outputs": [],
   "source": []
  }
 ],
 "metadata": {
  "anaconda-cloud": {},
  "kernelspec": {
   "display_name": "Python 3",
   "language": "python",
   "name": "python3"
  },
  "language_info": {
   "codemirror_mode": {
    "name": "ipython",
    "version": 3
   },
   "file_extension": ".py",
   "mimetype": "text/x-python",
   "name": "python",
   "nbconvert_exporter": "python",
   "pygments_lexer": "ipython3",
   "version": "3.6.3"
  }
 },
 "nbformat": 4,
 "nbformat_minor": 1
}
