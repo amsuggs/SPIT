{
 "cells": [
  {
   "cell_type": "code",
   "execution_count": null,
   "metadata": {},
   "outputs": [],
   "source": [
    "import numpy as np\n",
    "import matplotlib.pyplot as plt\n",
    "%matplotlib inline\n",
    "%load_ext autoreload\n",
    "%autoreload 2\n",
    "import sys\n",
    "import VersionZeroPointZero as PSS\n",
    "import math as maths\n",
    "import scipy as sp\n",
    "from scipy import signal\n",
    "import pickle"
   ]
  },
  {
   "cell_type": "code",
   "execution_count": null,
   "metadata": {
    "collapsed": true
   },
   "outputs": [],
   "source": [
    "Sig1 = PSS.Signal(bw = 40, SignalType = 'voltage', data_type = 'int16')"
   ]
  },
  {
   "cell_type": "code",
   "execution_count": null,
   "metadata": {
    "collapsed": true
   },
   "outputs": [],
   "source": [
    "Psr1 = PSS.Pulsar(Sig1)\n",
    "Psr1.make_pulses()"
   ]
  },
  {
   "cell_type": "code",
   "execution_count": null,
   "metadata": {},
   "outputs": [],
   "source": [
    "# cast to int32, maybe float32???\n",
    "data_to_write = np.array([])\n",
    "with open('../PulsarSignalOutputs/notebookData.bin', 'wb') as file:\n",
    "    for index in range(0, Psr1.phase.size):\n",
    "        real = Psr1.signal[0][index]\n",
    "        imag = Psr1.signal[1][index]\n",
    "        data_to_write = np.append(data_to_write, complex(real, imag))\n",
    "#         data_to_write = np.append(data_to_write, real)\n",
    "#         data_to_write = np.append(data_to_write, imag)\n",
    "    pickle.dump(data_to_write, file)"
   ]
  },
  {
   "cell_type": "code",
   "execution_count": null,
   "metadata": {},
   "outputs": [],
   "source": [
    "plt.figure(figsize=[10,4])\n",
    "plt.title(\"Raw Pulsar Data representing voltage vs time. Jones Vector Real Data\")\n",
    "plt.ylabel(\"Voltage\")\n",
    "plt.xlabel(\"Time\")\n",
    "plt.plot(Psr1.signal[0,0:Psr1.phase.size])\n",
    "plt.show()\n",
    "\n",
    "plt.figure(figsize=[10,4])\n",
    "plt.title(\"Raw Pulsar Data representing voltage vs time. Jones Vector Imaginary Data\")\n",
    "plt.ylabel(\"Voltage\")\n",
    "plt.xlabel(\"Time\")\n",
    "plt.plot(Psr1.signal[1,0:Psr1.phase.size])\n",
    "plt.show()"
   ]
  },
  {
   "cell_type": "code",
   "execution_count": null,
   "metadata": {},
   "outputs": [],
   "source": [
    "plt.figure(figsize=[10,4])\n",
    "plt.title(\"Raw Pulsar Data representing voltage vs time. Jones Vector Real Data\")\n",
    "plt.ylabel(\"Voltage\")\n",
    "plt.xlabel(\"Time\")\n",
    "plt.plot(data_to_write[0:data_to_write.size].real)\n",
    "plt.show()\n",
    "\n",
    "plt.figure(figsize=[10,4])\n",
    "plt.title(\"Raw Pulsar Data representing voltage vs time. Jones Vector Imaginary Data\")\n",
    "plt.ylabel(\"Voltage\")\n",
    "plt.xlabel(\"Time\")\n",
    "plt.plot(data_to_write[0:data_to_write.size].imag)\n",
    "plt.show()"
   ]
  },
  {
   "cell_type": "code",
   "execution_count": null,
   "metadata": {
    "collapsed": true
   },
   "outputs": [],
   "source": [
    "Ism1 = PSS.ISM(Sig1, DM=81)\n",
    "Ism1.disperse()"
   ]
  },
  {
   "cell_type": "code",
   "execution_count": null,
   "metadata": {},
   "outputs": [],
   "source": [
    "plt.figure(figsize=[10,4])\n",
    "plt.title(\"Dispersed Pulsar Data representing voltage vs time. Jones Vector Real Data\")\n",
    "plt.ylabel(\"Voltage\")\n",
    "plt.xlabel(\"Time\")\n",
    "plt.plot(Ism1.signal[0,0:Psr1.phase.size])\n",
    "plt.show()\n",
    "\n",
    "plt.figure(figsize=[10,4])\n",
    "plt.title(\"Dispersed Pulsar Data representing voltage vs time. Jones Vector Imaginary Data\")\n",
    "plt.ylabel(\"Voltage\")\n",
    "plt.xlabel(\"Time\")\n",
    "plt.plot(Ism1.signal[1,0:Psr1.phase.size])\n",
    "plt.show()"
   ]
  },
  {
   "cell_type": "code",
   "execution_count": null,
   "metadata": {
    "collapsed": true
   },
   "outputs": [],
   "source": []
  }
 ],
 "metadata": {
  "kernelspec": {
   "display_name": "Python 3",
   "language": "python",
   "name": "python3"
  },
  "language_info": {
   "codemirror_mode": {
    "name": "ipython",
    "version": 3
   },
   "file_extension": ".py",
   "mimetype": "text/x-python",
   "name": "python",
   "nbconvert_exporter": "python",
   "pygments_lexer": "ipython3",
   "version": "3.6.3"
  }
 },
 "nbformat": 4,
 "nbformat_minor": 2
}
