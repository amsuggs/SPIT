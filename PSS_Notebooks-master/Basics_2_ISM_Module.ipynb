{
 "cells": [
  {
   "cell_type": "markdown",
   "metadata": {},
   "source": [
    "# ISM Module: Basics"
   ]
  },
  {
   "cell_type": "code",
   "execution_count": null,
   "metadata": {
    "collapsed": true
   },
   "outputs": [],
   "source": [
    "import numpy as np\n",
    "import matplotlib.pyplot as plt\n",
    "% matplotlib inline\n",
    "import sys\n",
    "sys.path.append('/Users/jeffrey/GoogleDrive/PulsarSignalSimulator/PulsarSimulator/')\n",
    "import VersionZeroPointZero as PSS\n",
    "#from VersionZeroPointZero.signal import Signal\n",
    "#from VersionZeroPointZero.pulsar import Pulsar\n",
    "#from VersionZeroPointZero.ism import ISM"
   ]
  },
  {
   "cell_type": "code",
   "execution_count": null,
   "metadata": {
    "collapsed": true
   },
   "outputs": [],
   "source": [
    "Sig1 = PSS.Signal()\n",
    "P1 = PSS.Pulsar(Sig1) #Intialize signal and pulsar"
   ]
  },
  {
   "cell_type": "code",
   "execution_count": null,
   "metadata": {
    "collapsed": true
   },
   "outputs": [],
   "source": [
    "P1.make_pulses()\n",
    "PreDispSig = np.array(P1.signal)"
   ]
  },
  {
   "cell_type": "markdown",
   "metadata": {},
   "source": [
    "Above we need to save a copy of the signal as an array to archive what it looked like before we disperse it."
   ]
  },
  {
   "cell_type": "code",
   "execution_count": null,
   "metadata": {
    "collapsed": true
   },
   "outputs": [],
   "source": [
    "ism1 = PSS.ISM(Sig1) #ISM module takes signal as input"
   ]
  },
  {
   "cell_type": "code",
   "execution_count": null,
   "metadata": {
    "collapsed": true
   },
   "outputs": [],
   "source": [
    "t = np.linspace(0,Sig1.TotTime,Sig1.Nt)\n",
    "plt.plot(t, Sig1.signal[1,:])\n",
    "plt.show()"
   ]
  },
  {
   "cell_type": "markdown",
   "metadata": {},
   "source": [
    "Shift Theorem Function: The method below is used to shift the time of the arrays, given an input array and an integer to denote the number of bins to be shifted by. "
   ]
  },
  {
   "cell_type": "code",
   "execution_count": null,
   "metadata": {
    "collapsed": true
   },
   "outputs": [],
   "source": [
    "ism1.signal[1,:] = ism1.shiftit(ism1.signal[1,:],-12)"
   ]
  },
  {
   "cell_type": "code",
   "execution_count": null,
   "metadata": {
    "collapsed": true
   },
   "outputs": [],
   "source": [
    "plt.plot(t,PreDispSig[1,:],t,ism1.signal[1,:])\n",
    "plt.show()\n",
    "ism1.signal[1,:] = ism1.shiftit(ism1.signal[1,:],12)"
   ]
  },
  {
   "cell_type": "code",
   "execution_count": null,
   "metadata": {
    "collapsed": true
   },
   "outputs": [],
   "source": [
    "Sig2 = PSS.Signal()\n",
    "P2 = PSS.Pulsar(Sig2)\n",
    "P2.make_pulses()\n",
    "ism2 = PSS.ISM(Sig2)\n",
    "ism2.disperse(DM=10, to_DM_Broaden=True) #disperse(DM) Disperses frequency bins accordingly"
   ]
  },
  {
   "cell_type": "code",
   "execution_count": null,
   "metadata": {
    "collapsed": true
   },
   "outputs": [],
   "source": [
    "print(\"Freq Bin Size=\",ism2.freqBinSize) #Also calculated in the process\n",
    "print(\"dispersion?\", Sig2.MetaData.dispersion)\n",
    "ism2.freq_Array"
   ]
  },
  {
   "cell_type": "code",
   "execution_count": null,
   "metadata": {
    "collapsed": true
   },
   "outputs": [],
   "source": [
    "ism2.time_delays #This comes out in number of bins..."
   ]
  },
  {
   "cell_type": "code",
   "execution_count": null,
   "metadata": {
    "collapsed": true
   },
   "outputs": [],
   "source": [
    "plt.figure(figsize=(10,6))\n",
    "plt.suptitle(\"Dispersed Signal\")\n",
    "plt.imshow(ism2.signal, origin='lower',extent=[0,Sig2.TotTime,ism2.first_freq,ism2.last_freq],aspect='auto')\n",
    "plt.xlabel('milliseconds')\n",
    "plt.ylabel('MHz')\n",
    "plt.show() #Dispersed Signal . Note that currently, this is not in baseband."
   ]
  },
  {
   "cell_type": "code",
   "execution_count": null,
   "metadata": {
    "collapsed": true,
    "scrolled": true
   },
   "outputs": [],
   "source": [
    "plt.figure(figsize=(10,4))\n",
    "plt.suptitle(\"Original Signal\")\n",
    "plt.imshow(PreDispSig, origin='lower',extent=[0,Sig1.TotTime,ism1.first_freq,ism1.last_freq],aspect='auto')\n",
    "plt.xlabel('milliseconds')\n",
    "plt.ylabel('MHz')\n",
    "plt.show() # Original Signal"
   ]
  },
  {
   "cell_type": "code",
   "execution_count": null,
   "metadata": {
    "collapsed": true
   },
   "outputs": [],
   "source": [
    "Sig2.MetaData.DM"
   ]
  },
  {
   "cell_type": "code",
   "execution_count": null,
   "metadata": {
    "collapsed": true
   },
   "outputs": [],
   "source": []
  }
 ],
 "metadata": {
  "anaconda-cloud": {},
  "kernelspec": {
   "display_name": "Python 3",
   "language": "python",
   "name": "python3"
  },
  "language_info": {
   "codemirror_mode": {
    "name": "ipython",
    "version": 3
   },
   "file_extension": ".py",
   "mimetype": "text/x-python",
   "name": "python",
   "nbconvert_exporter": "python",
   "pygments_lexer": "ipython3",
   "version": "3.6.3"
  }
 },
 "nbformat": 4,
 "nbformat_minor": 1
}
